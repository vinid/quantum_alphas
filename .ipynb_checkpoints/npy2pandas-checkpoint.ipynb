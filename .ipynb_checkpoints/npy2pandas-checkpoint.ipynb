{
 "cells": [
  {
   "cell_type": "code",
   "execution_count": 1,
   "metadata": {},
   "outputs": [],
   "source": [
    "import numpy as np\n",
    "import os\n",
    "import pandas as pd\n",
    "import itertools"
   ]
  },
  {
   "cell_type": "code",
   "execution_count": 2,
   "metadata": {},
   "outputs": [],
   "source": [
    "#file = np.load('3000dataset_alpha0.5.npy', allow_pickle = 'True')\n",
    "#file2 = np.load('3000dataset_alpha0.6.npy', allow_pickle = 'True')"
   ]
  },
  {
   "cell_type": "code",
   "execution_count": 9,
   "metadata": {},
   "outputs": [
    {
     "data": {
      "text/plain": [
       "['boson_bath_dm_label0.1.npy',\n",
       " 'boson_bath_dm_label0.7.npy',\n",
       " 'boson_bath_dm_label1.5.npy',\n",
       " 'boson_bath_dm_label1.npy',\n",
       " 'boson_bath_dm_label2.5.npy',\n",
       " 'boson_bath_dm_label2.npy',\n",
       " 'boson_bath_dm_label3.npy']"
      ]
     },
     "execution_count": 9,
     "metadata": {},
     "output_type": "execute_result"
    }
   ],
   "source": [
    "\n",
    "n = []\n",
    "for root, dirs, files in os.walk(\".\", topdown=True):\n",
    "    \n",
    "    for name in files:\n",
    "        n.append(name)\n",
    "n[:-3]"
   ]
  },
  {
   "cell_type": "code",
   "execution_count": null,
   "metadata": {},
   "outputs": [],
   "source": [
    "test = np.load('boson_bath_dm_label0.7.npy', allow_pickle = True)"
   ]
  },
  {
   "cell_type": "code",
   "execution_count": 11,
   "metadata": {},
   "outputs": [],
   "source": [
    "m =n[:-3]"
   ]
  },
  {
   "cell_type": "code",
   "execution_count": 15,
   "metadata": {},
   "outputs": [
    {
     "name": "stdout",
     "output_type": "stream",
     "text": [
      "0\n",
      "1\n",
      "2\n",
      "3\n",
      "4\n",
      "5\n",
      "6\n"
     ]
    }
   ],
   "source": [
    "for i in range(len(m)): print(i)"
   ]
  },
  {
   "cell_type": "code",
   "execution_count": 13,
   "metadata": {},
   "outputs": [],
   "source": [
    "#it takes one npy files p and convert it into a list of list\n",
    "def explode(l):\n",
    "    pp2 = list(itertools.chain.from_iterable(l[:2]))\n",
    "    pp2.append(l[2])\n",
    "    pp2.append(l[3])\n",
    "    return pp2\n",
    "\n",
    "#a = list(map(explode,p))"
   ]
  },
  {
   "cell_type": "code",
   "execution_count": 16,
   "metadata": {},
   "outputs": [],
   "source": [
    "numfiles = 19\n",
    "myfiles = {i : list(map(explode,np.load(m[i], allow_pickle=True))) for i in range(len(m))  }"
   ]
  },
  {
   "cell_type": "code",
   "execution_count": 18,
   "metadata": {},
   "outputs": [],
   "source": [
    "\n",
    "dframes = [pd.DataFrame(myfiles[i]) for i in range(len(m))]\n",
    "\n",
    "del(myfiles)\n"
   ]
  },
  {
   "cell_type": "code",
   "execution_count": null,
   "metadata": {},
   "outputs": [],
   "source": [
    "\n",
    "#for i in range(17): print(dframes[i].shape)"
   ]
  },
  {
   "cell_type": "code",
   "execution_count": 19,
   "metadata": {},
   "outputs": [],
   "source": [
    "col_name1 = ['in_prob'+str(i) for i in range(1,5)]\n",
    "col_name2 = ['fin_prob'+str(i) for i in range(1,5)]\n",
    "\n",
    "for el in col_name2:col_name1.append(el)\n",
    "col_name1.append('L_in')\n",
    "col_name1.append('L_fin')\n",
    "\n",
    "\n",
    "\n"
   ]
  },
  {
   "cell_type": "code",
   "execution_count": 24,
   "metadata": {},
   "outputs": [],
   "source": [
    "from itertools import repeat\n",
    "\n",
    "datasetlen = 3000000\n",
    "s = [0.1,0.7,1.5,1,2.5,2,3]\n",
    "bose = list(itertools.chain(*[ list(repeat(step,datasetlen)) for step in  s ]))\n"
   ]
  },
  {
   "cell_type": "code",
   "execution_count": 31,
   "metadata": {},
   "outputs": [
    {
     "data": {
      "text/plain": [
       "['in_prob1',\n",
       " 'in_prob2',\n",
       " 'in_prob3',\n",
       " 'in_prob4',\n",
       " 'fin_prob1',\n",
       " 'fin_prob2',\n",
       " 'fin_prob3',\n",
       " 'fin_prob4',\n",
       " 'L_in',\n",
       " 'L_fin',\n",
       " 'label']"
      ]
     },
     "execution_count": 31,
     "metadata": {},
     "output_type": "execute_result"
    }
   ],
   "source": [
    "col_name1 + ['label']"
   ]
  },
  {
   "cell_type": "code",
   "execution_count": 35,
   "metadata": {},
   "outputs": [
    {
     "data": {
      "text/plain": [
       "<bound method NDFrame.head of                  0         1         2         3         4         5  \\\n",
       "0         0.199940  0.131958  0.272290  0.395812  0.199940  0.187040   \n",
       "1         0.199940  0.137332  0.272067  0.390661  0.199940  0.187040   \n",
       "2         0.199940  0.137437  0.272062  0.390561  0.199940  0.187040   \n",
       "3         0.199940  0.140101  0.271952  0.388007  0.199940  0.187040   \n",
       "4         0.199940  0.143901  0.271793  0.384365  0.199940  0.187040   \n",
       "...            ...       ...       ...       ...       ...       ...   \n",
       "20999995  0.392156  0.212193  0.257945  0.137706  0.392156  0.212209   \n",
       "20999996  0.392156  0.212193  0.257945  0.137706  0.392156  0.212211   \n",
       "20999997  0.392156  0.212193  0.257945  0.137706  0.392156  0.212212   \n",
       "20999998  0.392156  0.212193  0.257945  0.137706  0.392156  0.212217   \n",
       "20999999  0.392156  0.212193  0.257945  0.137706  0.392156  0.212219   \n",
       "\n",
       "                 6         7         8         9  label  \n",
       "0         0.269999  0.343021  0.660113  0.390235    0.1  \n",
       "1         0.269999  0.343021  0.633785  0.390235    0.1  \n",
       "2         0.269999  0.343021  0.633270  0.390235    0.1  \n",
       "3         0.269999  0.343021  0.620215  0.390235    0.1  \n",
       "4         0.269999  0.343021  0.601596  0.390235    0.1  \n",
       "...            ...       ...       ...       ...    ...  \n",
       "20999995  0.258035  0.137600  0.361434  0.362022    3.0  \n",
       "20999996  0.258048  0.137585  0.361434  0.362106    3.0  \n",
       "20999997  0.258056  0.137576  0.361434  0.362158    3.0  \n",
       "20999998  0.258083  0.137543  0.361434  0.362338    3.0  \n",
       "20999999  0.258092  0.137533  0.361434  0.362398    3.0  \n",
       "\n",
       "[21000000 rows x 11 columns]>"
      ]
     },
     "execution_count": 35,
     "metadata": {},
     "output_type": "execute_result"
    }
   ],
   "source": [
    "final = pd.concat(dframes,ignore_index = True)\n",
    "final['label'] = bose\n",
    "#final.to_pickle('3000bose.pkl',header =col_name1+ ['label'])\n",
    "\n",
    "  "
   ]
  },
  {
   "cell_type": "code",
   "execution_count": 42,
   "metadata": {},
   "outputs": [],
   "source": [
    "final.columns = col_name1 + ['label']\n"
   ]
  },
  {
   "cell_type": "code",
   "execution_count": 44,
   "metadata": {},
   "outputs": [],
   "source": [
    "final.to_pickle('3000bose.pkl')\n"
   ]
  },
  {
   "cell_type": "code",
   "execution_count": 45,
   "metadata": {},
   "outputs": [],
   "source": [
    "bla = pd.read_pickle('3000bose.pkl')"
   ]
  },
  {
   "cell_type": "code",
   "execution_count": 52,
   "metadata": {},
   "outputs": [],
   "source": [
    "l = bla.loc[0]"
   ]
  },
  {
   "cell_type": "code",
   "execution_count": 56,
   "metadata": {},
   "outputs": [
    {
     "data": {
      "text/plain": [
       "numpy.float64"
      ]
     },
     "execution_count": 56,
     "metadata": {},
     "output_type": "execute_result"
    }
   ],
   "source": [
    "type(l[0])"
   ]
  },
  {
   "cell_type": "code",
   "execution_count": null,
   "metadata": {},
   "outputs": [],
   "source": []
  },
  {
   "cell_type": "code",
   "execution_count": null,
   "metadata": {},
   "outputs": [],
   "source": []
  },
  {
   "cell_type": "code",
   "execution_count": null,
   "metadata": {},
   "outputs": [],
   "source": []
  },
  {
   "cell_type": "code",
   "execution_count": null,
   "metadata": {},
   "outputs": [],
   "source": []
  },
  {
   "cell_type": "code",
   "execution_count": null,
   "metadata": {},
   "outputs": [],
   "source": []
  },
  {
   "cell_type": "code",
   "execution_count": null,
   "metadata": {},
   "outputs": [],
   "source": []
  },
  {
   "cell_type": "code",
   "execution_count": null,
   "metadata": {},
   "outputs": [],
   "source": []
  },
  {
   "cell_type": "code",
   "execution_count": null,
   "metadata": {},
   "outputs": [],
   "source": []
  },
  {
   "cell_type": "code",
   "execution_count": null,
   "metadata": {},
   "outputs": [],
   "source": []
  },
  {
   "cell_type": "code",
   "execution_count": null,
   "metadata": {},
   "outputs": [],
   "source": [
    "\n",
    "\n",
    "\n",
    "\n",
    "\n",
    "\n",
    "\n"
   ]
  },
  {
   "cell_type": "code",
   "execution_count": null,
   "metadata": {},
   "outputs": [],
   "source": []
  },
  {
   "cell_type": "code",
   "execution_count": null,
   "metadata": {},
   "outputs": [],
   "source": []
  },
  {
   "cell_type": "code",
   "execution_count": null,
   "metadata": {},
   "outputs": [],
   "source": []
  },
  {
   "cell_type": "code",
   "execution_count": null,
   "metadata": {},
   "outputs": [],
   "source": []
  },
  {
   "cell_type": "code",
   "execution_count": null,
   "metadata": {},
   "outputs": [],
   "source": []
  },
  {
   "cell_type": "code",
   "execution_count": null,
   "metadata": {},
   "outputs": [],
   "source": []
  },
  {
   "cell_type": "code",
   "execution_count": null,
   "metadata": {},
   "outputs": [],
   "source": []
  },
  {
   "cell_type": "code",
   "execution_count": null,
   "metadata": {},
   "outputs": [],
   "source": []
  },
  {
   "cell_type": "code",
   "execution_count": null,
   "metadata": {},
   "outputs": [],
   "source": []
  },
  {
   "cell_type": "code",
   "execution_count": null,
   "metadata": {},
   "outputs": [],
   "source": []
  },
  {
   "cell_type": "code",
   "execution_count": null,
   "metadata": {},
   "outputs": [],
   "source": []
  },
  {
   "cell_type": "code",
   "execution_count": null,
   "metadata": {},
   "outputs": [],
   "source": []
  }
 ],
 "metadata": {
  "kernelspec": {
   "display_name": "Python 3",
   "language": "python",
   "name": "python3"
  },
  "language_info": {
   "codemirror_mode": {
    "name": "ipython",
    "version": 3
   },
   "file_extension": ".py",
   "mimetype": "text/x-python",
   "name": "python",
   "nbconvert_exporter": "python",
   "pygments_lexer": "ipython3",
   "version": "3.8.6"
  }
 },
 "nbformat": 4,
 "nbformat_minor": 4
}
